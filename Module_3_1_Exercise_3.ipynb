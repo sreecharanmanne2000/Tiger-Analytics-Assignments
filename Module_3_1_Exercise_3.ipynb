{
  "nbformat": 4,
  "nbformat_minor": 0,
  "metadata": {
    "colab": {
      "name": "Module 3.1 Exercise -3.ipynb",
      "provenance": []
    },
    "kernelspec": {
      "name": "python3",
      "display_name": "Python 3"
    }
  },
  "cells": [
    {
      "cell_type": "markdown",
      "metadata": {
        "id": "bmFPu-F5ekTS"
      },
      "source": [
        "# EXERCISE- 3"
      ]
    },
    {
      "cell_type": "code",
      "metadata": {
        "id": "2ibsN8NbeoQf"
      },
      "source": [
        "from sklearn.svm import SVC\r\n",
        "from sklearn.datasets import load_breast_cancer\r\n",
        "from sklearn.model_selection import train_test_split\r\n",
        "from sklearn.preprocessing import MinMaxScaler\r\n",
        "\r\n",
        "# load and split the data\r\n",
        "cancer = load_breast_cancer()\r\n",
        "X_train, X_test, y_train, y_test = train_test_split(\r\n",
        "    cancer.data, cancer.target, random_state=0)\r\n",
        "\r\n",
        "# compute minimum and maximum on the training data\r\n",
        "scaler = MinMaxScaler().fit(X_train)"
      ],
      "execution_count": null,
      "outputs": []
    },
    {
      "cell_type": "code",
      "metadata": {
        "colab": {
          "base_uri": "https://localhost:8080/"
        },
        "id": "FeU5GWsreqjk",
        "outputId": "a00caacf-f942-4d28-ef50-dcac90d75bf7"
      },
      "source": [
        "X_train_scaled = scaler.transform(X_train)\r\n",
        "\r\n",
        "svm = SVC()\r\n",
        "# learn an SVM on the scaled training data\r\n",
        "svm.fit(X_train_scaled, y_train)\r\n",
        "# scale the test data and score the scaled data\r\n",
        "X_test_scaled = scaler.transform(X_test)\r\n",
        "print(\"Test score: {:.2f}\".format(svm.score(X_test_scaled, y_test)))"
      ],
      "execution_count": null,
      "outputs": [
        {
          "output_type": "stream",
          "text": [
            "Test score: 0.97\n"
          ],
          "name": "stdout"
        }
      ]
    },
    {
      "cell_type": "markdown",
      "metadata": {
        "id": "kgeRsdODevPG"
      },
      "source": [
        "# Parameter Selection with Preprocessing"
      ]
    },
    {
      "cell_type": "code",
      "metadata": {
        "colab": {
          "base_uri": "https://localhost:8080/"
        },
        "id": "8sWjkfaresLK",
        "outputId": "461c800a-7bdd-482c-d8ec-c5d14f077e5e"
      },
      "source": [
        "from sklearn.model_selection import GridSearchCV\r\n",
        "# for illustration purposes only, don't use this code!\r\n",
        "param_grid = {'C': [0.001, 0.01, 0.1, 1, 10, 100],\r\n",
        "              'gamma': [0.001, 0.01, 0.1, 1, 10, 100]}\r\n",
        "grid = GridSearchCV(SVC(), param_grid=param_grid, cv=5)\r\n",
        "grid.fit(X_train_scaled, y_train)\r\n",
        "print(\"Best cross-validation accuracy: {:.2f}\".format(grid.best_score_))\r\n",
        "print(\"Best parameters: \", grid.best_params_)\r\n",
        "print(\"Test set accuracy: {:.2f}\".format(grid.score(X_test_scaled, y_test)))"
      ],
      "execution_count": null,
      "outputs": [
        {
          "output_type": "stream",
          "text": [
            "Best cross-validation accuracy: 0.98\n",
            "Best parameters:  {'C': 1, 'gamma': 1}\n",
            "Test set accuracy: 0.97\n"
          ],
          "name": "stdout"
        }
      ]
    },
    {
      "cell_type": "markdown",
      "metadata": {
        "id": "jeZL1lzJe0VN"
      },
      "source": [
        "# Building Pipelines"
      ]
    },
    {
      "cell_type": "code",
      "metadata": {
        "id": "uoVW4VMUe1Qs"
      },
      "source": [
        "from sklearn.pipeline import Pipeline\r\n",
        "pipe = Pipeline([(\"scaler\", MinMaxScaler()), (\"svm\", SVC())])"
      ],
      "execution_count": null,
      "outputs": []
    },
    {
      "cell_type": "code",
      "metadata": {
        "colab": {
          "base_uri": "https://localhost:8080/"
        },
        "id": "I5Pm2BXJe242",
        "outputId": "544e80d4-8595-4aa3-d1ae-6e73dcfb6f16"
      },
      "source": [
        "pipe.fit(X_train, y_train)"
      ],
      "execution_count": null,
      "outputs": [
        {
          "output_type": "execute_result",
          "data": {
            "text/plain": [
              "Pipeline(memory=None,\n",
              "         steps=[('scaler', MinMaxScaler(copy=True, feature_range=(0, 1))),\n",
              "                ('svm',\n",
              "                 SVC(C=1.0, break_ties=False, cache_size=200, class_weight=None,\n",
              "                     coef0=0.0, decision_function_shape='ovr', degree=3,\n",
              "                     gamma='scale', kernel='rbf', max_iter=-1,\n",
              "                     probability=False, random_state=None, shrinking=True,\n",
              "                     tol=0.001, verbose=False))],\n",
              "         verbose=False)"
            ]
          },
          "metadata": {
            "tags": []
          },
          "execution_count": 5
        }
      ]
    },
    {
      "cell_type": "code",
      "metadata": {
        "colab": {
          "base_uri": "https://localhost:8080/"
        },
        "id": "H2Po10KLe5FL",
        "outputId": "542618ac-690f-4213-caf2-ecd490ac5e5a"
      },
      "source": [
        "print(\"Test score: {:.2f}\".format(pipe.score(X_test, y_test)))"
      ],
      "execution_count": null,
      "outputs": [
        {
          "output_type": "stream",
          "text": [
            "Test score: 0.97\n"
          ],
          "name": "stdout"
        }
      ]
    },
    {
      "cell_type": "markdown",
      "metadata": {
        "id": "UXPlaNMfe6uq"
      },
      "source": [
        "# Using Pipelines in Grid Searches"
      ]
    },
    {
      "cell_type": "code",
      "metadata": {
        "id": "cuccCtlMfAJk"
      },
      "source": [
        "param_grid = {'svm__C': [0.001, 0.01, 0.1, 1, 10, 100],\r\n",
        "              'svm__gamma': [0.001, 0.01, 0.1, 1, 10, 100]}"
      ],
      "execution_count": null,
      "outputs": []
    },
    {
      "cell_type": "code",
      "metadata": {
        "colab": {
          "base_uri": "https://localhost:8080/"
        },
        "id": "VdMdem0QfCdU",
        "outputId": "146abb04-88f7-4971-fa7e-32c0a3f0ffaa"
      },
      "source": [
        "grid = GridSearchCV(pipe, param_grid=param_grid, cv=5)\r\n",
        "grid.fit(X_train, y_train)\r\n",
        "print(\"Best cross-validation accuracy: {:.2f}\".format(grid.best_score_))\r\n",
        "print(\"Test set score: {:.2f}\".format(grid.score(X_test, y_test)))\r\n",
        "print(\"Best parameters: {}\".format(grid.best_params_))"
      ],
      "execution_count": null,
      "outputs": [
        {
          "output_type": "stream",
          "text": [
            "Best cross-validation accuracy: 0.98\n",
            "Test set score: 0.97\n",
            "Best parameters: {'svm__C': 1, 'svm__gamma': 1}\n"
          ],
          "name": "stdout"
        }
      ]
    },
    {
      "cell_type": "markdown",
      "metadata": {
        "id": "_K4q4UKUfFIM"
      },
      "source": [
        "# ILLUSTRATING INFORMATION LEAKAGE"
      ]
    },
    {
      "cell_type": "code",
      "metadata": {
        "id": "589ls4nYfGV6"
      },
      "source": [
        "import numpy as np\r\n",
        "rnd = np.random.RandomState(seed=0)\r\n",
        "X = rnd.normal(size=(100, 10000))\r\n",
        "y = rnd.normal(size=(100,))"
      ],
      "execution_count": null,
      "outputs": []
    },
    {
      "cell_type": "code",
      "metadata": {
        "colab": {
          "base_uri": "https://localhost:8080/"
        },
        "id": "MMveYRoQfN4d",
        "outputId": "a2b29506-2b9d-4d0e-feab-d1fce81ffcc5"
      },
      "source": [
        "from sklearn.feature_selection import SelectPercentile, f_regression\r\n",
        "\r\n",
        "select = SelectPercentile(score_func=f_regression, percentile=5).fit(X, y)\r\n",
        "X_selected = select.transform(X)\r\n",
        "print(\"X_selected.shape: {}\".format(X_selected.shape))"
      ],
      "execution_count": null,
      "outputs": [
        {
          "output_type": "stream",
          "text": [
            "X_selected.shape: (100, 500)\n"
          ],
          "name": "stdout"
        }
      ]
    },
    {
      "cell_type": "code",
      "metadata": {
        "colab": {
          "base_uri": "https://localhost:8080/"
        },
        "id": "U0CILr0DfP44",
        "outputId": "41d16182-e368-4b56-b1ae-e2d2ffe41613"
      },
      "source": [
        "from sklearn.model_selection import cross_val_score\r\n",
        "from sklearn.linear_model import Ridge\r\n",
        "print(\"Cross-validation accuracy (cv only on ridge): {:.2f}\".format(\r\n",
        "      np.mean(cross_val_score(Ridge(), X_selected, y, cv=5))))"
      ],
      "execution_count": null,
      "outputs": [
        {
          "output_type": "stream",
          "text": [
            "Cross-validation accuracy (cv only on ridge): 0.91\n"
          ],
          "name": "stdout"
        }
      ]
    },
    {
      "cell_type": "code",
      "metadata": {
        "colab": {
          "base_uri": "https://localhost:8080/"
        },
        "id": "e7YzjrcXfR3d",
        "outputId": "81aa4b94-cc67-429c-8682-53969706fa3c"
      },
      "source": [
        "pipe = Pipeline([(\"select\", SelectPercentile(score_func=f_regression,\r\n",
        "                                             percentile=5)),\r\n",
        "                 (\"ridge\", Ridge())])\r\n",
        "print(\"Cross-validation accuracy (pipeline): {:.2f}\".format(\r\n",
        "      np.mean(cross_val_score(pipe, X, y, cv=5))))\r\n"
      ],
      "execution_count": null,
      "outputs": [
        {
          "output_type": "stream",
          "text": [
            "Cross-validation accuracy (pipeline): -0.25\n"
          ],
          "name": "stdout"
        }
      ]
    },
    {
      "cell_type": "markdown",
      "metadata": {
        "id": "w9-oAnTmfUW-"
      },
      "source": [
        "# The General Pipeline Interface"
      ]
    },
    {
      "cell_type": "code",
      "metadata": {
        "id": "bmHlApprfVKt"
      },
      "source": [
        "def fit(self, X, y):\r\n",
        "    X_transformed = X\r\n",
        "    for name, estimator in self.steps[:-1]:\r\n",
        "        # iterate over all but the final step\r\n",
        "        # fit and transform the data\r\n",
        "        X_transformed = estimator.fit_transform(X_transformed, y)\r\n",
        "    # fit the last step\r\n",
        "    self.steps[-1][1].fit(X_transformed, y)\r\n",
        "    return self"
      ],
      "execution_count": null,
      "outputs": []
    },
    {
      "cell_type": "code",
      "metadata": {
        "id": "TESGGrjufXG8"
      },
      "source": [
        "def predict(self, X):\r\n",
        "    X_transformed = X\r\n",
        "    for step in self.steps[:-1]:\r\n",
        "        # iterate over all but the final step\r\n",
        "        # transform the data\r\n",
        "        X_transformed = step[1].transform(X_transformed)\r\n",
        "    # predict using the last step\r\n",
        "    return self.steps[-1][1].predict(X_transformed)"
      ],
      "execution_count": null,
      "outputs": []
    },
    {
      "cell_type": "code",
      "metadata": {
        "id": "ZhTGpz5dfYfU"
      },
      "source": [
        "from sklearn.pipeline import make_pipeline\r\n",
        "# standard syntax\r\n",
        "pipe_long = Pipeline([(\"scaler\", MinMaxScaler()), (\"svm\", SVC(C=100))])\r\n",
        "# abbreviated syntax\r\n",
        "pipe_short = make_pipeline(MinMaxScaler(), SVC(C=100))"
      ],
      "execution_count": null,
      "outputs": []
    },
    {
      "cell_type": "code",
      "metadata": {
        "colab": {
          "base_uri": "https://localhost:8080/"
        },
        "id": "61X2VhQSfZ6x",
        "outputId": "4c15f01e-d29a-4f8e-866d-d203588aa19b"
      },
      "source": [
        "print(\"Pipeline steps:\\n{}\".format(pipe_short.steps))"
      ],
      "execution_count": null,
      "outputs": [
        {
          "output_type": "stream",
          "text": [
            "Pipeline steps:\n",
            "[('minmaxscaler', MinMaxScaler(copy=True, feature_range=(0, 1))), ('svc', SVC(C=100, break_ties=False, cache_size=200, class_weight=None, coef0=0.0,\n",
            "    decision_function_shape='ovr', degree=3, gamma='scale', kernel='rbf',\n",
            "    max_iter=-1, probability=False, random_state=None, shrinking=True,\n",
            "    tol=0.001, verbose=False))]\n"
          ],
          "name": "stdout"
        }
      ]
    },
    {
      "cell_type": "code",
      "metadata": {
        "colab": {
          "base_uri": "https://localhost:8080/"
        },
        "id": "PKukmt4kfbUB",
        "outputId": "ae6459cf-21ee-4f65-e1bc-dea787a92eeb"
      },
      "source": [
        "from sklearn.preprocessing import StandardScaler\r\n",
        "from sklearn.decomposition import PCA\r\n",
        "\r\n",
        "pipe = make_pipeline(StandardScaler(), PCA(n_components=2), StandardScaler())\r\n",
        "print(\"Pipeline steps:\\n{}\".format(pipe.steps))"
      ],
      "execution_count": null,
      "outputs": [
        {
          "output_type": "stream",
          "text": [
            "Pipeline steps:\n",
            "[('standardscaler-1', StandardScaler(copy=True, with_mean=True, with_std=True)), ('pca', PCA(copy=True, iterated_power='auto', n_components=2, random_state=None,\n",
            "    svd_solver='auto', tol=0.0, whiten=False)), ('standardscaler-2', StandardScaler(copy=True, with_mean=True, with_std=True))]\n"
          ],
          "name": "stdout"
        }
      ]
    },
    {
      "cell_type": "code",
      "metadata": {
        "colab": {
          "base_uri": "https://localhost:8080/"
        },
        "id": "6yor6Ee6fcyW",
        "outputId": "b6979e5c-86f6-4bd9-d84d-69cf93a03449"
      },
      "source": [
        "pipe.fit(cancer.data)\r\n",
        "# extract the first two principal components from the \"pca\" step\r\n",
        "components = pipe.named_steps[\"pca\"].components_\r\n",
        "print(\"components.shape: {}\".format(components.shape))"
      ],
      "execution_count": null,
      "outputs": [
        {
          "output_type": "stream",
          "text": [
            "components.shape: (2, 30)\n"
          ],
          "name": "stdout"
        }
      ]
    },
    {
      "cell_type": "code",
      "metadata": {
        "id": "6Z3LIthkfeNc"
      },
      "source": [
        "from sklearn.linear_model import LogisticRegression\r\n",
        "\r\n",
        "pipe = make_pipeline(StandardScaler(), LogisticRegression())"
      ],
      "execution_count": null,
      "outputs": []
    },
    {
      "cell_type": "code",
      "metadata": {
        "id": "p2U4Kauwff7w"
      },
      "source": [
        "param_grid = {'logisticregression__C': [0.01, 0.1, 1, 10, 100]}"
      ],
      "execution_count": null,
      "outputs": []
    },
    {
      "cell_type": "code",
      "metadata": {
        "colab": {
          "base_uri": "https://localhost:8080/"
        },
        "id": "Q7hzzxkGfiOU",
        "outputId": "80c18fea-17a9-4067-cffe-259f14965ade"
      },
      "source": [
        "X_train, X_test, y_train, y_test = train_test_split(\r\n",
        "    cancer.data, cancer.target, random_state=4)\r\n",
        "grid = GridSearchCV(pipe, param_grid, cv=5)\r\n",
        "grid.fit(X_train, y_train)"
      ],
      "execution_count": null,
      "outputs": [
        {
          "output_type": "stream",
          "text": [
            "/usr/local/lib/python3.7/dist-packages/sklearn/linear_model/_logistic.py:940: ConvergenceWarning: lbfgs failed to converge (status=1):\n",
            "STOP: TOTAL NO. of ITERATIONS REACHED LIMIT.\n",
            "\n",
            "Increase the number of iterations (max_iter) or scale the data as shown in:\n",
            "    https://scikit-learn.org/stable/modules/preprocessing.html\n",
            "Please also refer to the documentation for alternative solver options:\n",
            "    https://scikit-learn.org/stable/modules/linear_model.html#logistic-regression\n",
            "  extra_warning_msg=_LOGISTIC_SOLVER_CONVERGENCE_MSG)\n",
            "/usr/local/lib/python3.7/dist-packages/sklearn/linear_model/_logistic.py:940: ConvergenceWarning: lbfgs failed to converge (status=1):\n",
            "STOP: TOTAL NO. of ITERATIONS REACHED LIMIT.\n",
            "\n",
            "Increase the number of iterations (max_iter) or scale the data as shown in:\n",
            "    https://scikit-learn.org/stable/modules/preprocessing.html\n",
            "Please also refer to the documentation for alternative solver options:\n",
            "    https://scikit-learn.org/stable/modules/linear_model.html#logistic-regression\n",
            "  extra_warning_msg=_LOGISTIC_SOLVER_CONVERGENCE_MSG)\n",
            "/usr/local/lib/python3.7/dist-packages/sklearn/linear_model/_logistic.py:940: ConvergenceWarning: lbfgs failed to converge (status=1):\n",
            "STOP: TOTAL NO. of ITERATIONS REACHED LIMIT.\n",
            "\n",
            "Increase the number of iterations (max_iter) or scale the data as shown in:\n",
            "    https://scikit-learn.org/stable/modules/preprocessing.html\n",
            "Please also refer to the documentation for alternative solver options:\n",
            "    https://scikit-learn.org/stable/modules/linear_model.html#logistic-regression\n",
            "  extra_warning_msg=_LOGISTIC_SOLVER_CONVERGENCE_MSG)\n",
            "/usr/local/lib/python3.7/dist-packages/sklearn/linear_model/_logistic.py:940: ConvergenceWarning: lbfgs failed to converge (status=1):\n",
            "STOP: TOTAL NO. of ITERATIONS REACHED LIMIT.\n",
            "\n",
            "Increase the number of iterations (max_iter) or scale the data as shown in:\n",
            "    https://scikit-learn.org/stable/modules/preprocessing.html\n",
            "Please also refer to the documentation for alternative solver options:\n",
            "    https://scikit-learn.org/stable/modules/linear_model.html#logistic-regression\n",
            "  extra_warning_msg=_LOGISTIC_SOLVER_CONVERGENCE_MSG)\n",
            "/usr/local/lib/python3.7/dist-packages/sklearn/linear_model/_logistic.py:940: ConvergenceWarning: lbfgs failed to converge (status=1):\n",
            "STOP: TOTAL NO. of ITERATIONS REACHED LIMIT.\n",
            "\n",
            "Increase the number of iterations (max_iter) or scale the data as shown in:\n",
            "    https://scikit-learn.org/stable/modules/preprocessing.html\n",
            "Please also refer to the documentation for alternative solver options:\n",
            "    https://scikit-learn.org/stable/modules/linear_model.html#logistic-regression\n",
            "  extra_warning_msg=_LOGISTIC_SOLVER_CONVERGENCE_MSG)\n"
          ],
          "name": "stderr"
        },
        {
          "output_type": "execute_result",
          "data": {
            "text/plain": [
              "GridSearchCV(cv=5, error_score=nan,\n",
              "             estimator=Pipeline(memory=None,\n",
              "                                steps=[('standardscaler',\n",
              "                                        StandardScaler(copy=True,\n",
              "                                                       with_mean=True,\n",
              "                                                       with_std=True)),\n",
              "                                       ('logisticregression',\n",
              "                                        LogisticRegression(C=1.0,\n",
              "                                                           class_weight=None,\n",
              "                                                           dual=False,\n",
              "                                                           fit_intercept=True,\n",
              "                                                           intercept_scaling=1,\n",
              "                                                           l1_ratio=None,\n",
              "                                                           max_iter=100,\n",
              "                                                           multi_class='auto',\n",
              "                                                           n_jobs=None,\n",
              "                                                           penalty='l2',\n",
              "                                                           random_state=None,\n",
              "                                                           solver='lbfgs',\n",
              "                                                           tol=0.0001,\n",
              "                                                           verbose=0,\n",
              "                                                           warm_start=False))],\n",
              "                                verbose=False),\n",
              "             iid='deprecated', n_jobs=None,\n",
              "             param_grid={'logisticregression__C': [0.01, 0.1, 1, 10, 100]},\n",
              "             pre_dispatch='2*n_jobs', refit=True, return_train_score=False,\n",
              "             scoring=None, verbose=0)"
            ]
          },
          "metadata": {
            "tags": []
          },
          "execution_count": 22
        }
      ]
    },
    {
      "cell_type": "code",
      "metadata": {
        "colab": {
          "base_uri": "https://localhost:8080/"
        },
        "id": "UZvEbGfafkdb",
        "outputId": "dd31a396-2cc5-4d20-e6d8-900abd9666f9"
      },
      "source": [
        "print(\"Best estimator:\\n{}\".format(grid.best_estimator_))"
      ],
      "execution_count": null,
      "outputs": [
        {
          "output_type": "stream",
          "text": [
            "Best estimator:\n",
            "Pipeline(memory=None,\n",
            "         steps=[('standardscaler',\n",
            "                 StandardScaler(copy=True, with_mean=True, with_std=True)),\n",
            "                ('logisticregression',\n",
            "                 LogisticRegression(C=1, class_weight=None, dual=False,\n",
            "                                    fit_intercept=True, intercept_scaling=1,\n",
            "                                    l1_ratio=None, max_iter=100,\n",
            "                                    multi_class='auto', n_jobs=None,\n",
            "                                    penalty='l2', random_state=None,\n",
            "                                    solver='lbfgs', tol=0.0001, verbose=0,\n",
            "                                    warm_start=False))],\n",
            "         verbose=False)\n"
          ],
          "name": "stdout"
        }
      ]
    },
    {
      "cell_type": "code",
      "metadata": {
        "colab": {
          "base_uri": "https://localhost:8080/"
        },
        "id": "Fkx6DrQsfmKf",
        "outputId": "58616445-831c-4b5b-f7e5-2c275f486707"
      },
      "source": [
        "print(\"Logistic regression step:\\n{}\".format(\r\n",
        "      grid.best_estimator_.named_steps[\"logisticregression\"]))"
      ],
      "execution_count": null,
      "outputs": [
        {
          "output_type": "stream",
          "text": [
            "Logistic regression step:\n",
            "LogisticRegression(C=1, class_weight=None, dual=False, fit_intercept=True,\n",
            "                   intercept_scaling=1, l1_ratio=None, max_iter=100,\n",
            "                   multi_class='auto', n_jobs=None, penalty='l2',\n",
            "                   random_state=None, solver='lbfgs', tol=0.0001, verbose=0,\n",
            "                   warm_start=False)\n"
          ],
          "name": "stdout"
        }
      ]
    },
    {
      "cell_type": "code",
      "metadata": {
        "colab": {
          "base_uri": "https://localhost:8080/"
        },
        "id": "B76A2-NYfomp",
        "outputId": "107b9fd1-ae9f-44bd-89c1-6e0a3e3124cf"
      },
      "source": [
        "print(\"Logistic regression coefficients:\\n{}\".format(\r\n",
        "      grid.best_estimator_.named_steps[\"logisticregression\"].coef_))"
      ],
      "execution_count": null,
      "outputs": [
        {
          "output_type": "stream",
          "text": [
            "Logistic regression coefficients:\n",
            "[[-0.43570655 -0.34266946 -0.40809443 -0.5344574  -0.14971847  0.61034122\n",
            "  -0.72634347 -0.78538827  0.03886087  0.27497198 -1.29780109  0.04926005\n",
            "  -0.67336941 -0.93447426 -0.13939555  0.45032641 -0.13009864 -0.10144273\n",
            "   0.43432027  0.71596578 -1.09068862 -1.09463976 -0.85183755 -1.06406198\n",
            "  -0.74316099  0.07252425 -0.82323903 -0.65321239 -0.64379499 -0.42026013]]\n"
          ],
          "name": "stdout"
        }
      ]
    },
    {
      "cell_type": "markdown",
      "metadata": {
        "id": "AG8cP22-frD2"
      },
      "source": [
        "# Grid-Searching Preprocessing Steps and Model Parameters"
      ]
    },
    {
      "cell_type": "code",
      "metadata": {
        "id": "YyG4wpfjfsF9"
      },
      "source": [
        "from sklearn.datasets import load_boston\r\n",
        "boston = load_boston()\r\n",
        "X_train, X_test, y_train, y_test = train_test_split(boston.data, boston.target,\r\n",
        "                                                    random_state=0)\r\n",
        "\r\n",
        "from sklearn.preprocessing import PolynomialFeatures\r\n",
        "pipe = make_pipeline(\r\n",
        "    StandardScaler(),\r\n",
        "    PolynomialFeatures(),\r\n",
        "    Ridge())"
      ],
      "execution_count": null,
      "outputs": []
    },
    {
      "cell_type": "code",
      "metadata": {
        "id": "xJNq2HgOfwiy"
      },
      "source": [
        "param_grid = {'polynomialfeatures__degree': [1, 2, 3],\r\n",
        "              'ridge__alpha': [0.001, 0.01, 0.1, 1, 10, 100]}"
      ],
      "execution_count": null,
      "outputs": []
    },
    {
      "cell_type": "code",
      "metadata": {
        "colab": {
          "base_uri": "https://localhost:8080/"
        },
        "id": "hy57GPHRfyU0",
        "outputId": "fb010d9c-1db6-4c4c-8ce3-aa0df712ecc6"
      },
      "source": [
        "grid = GridSearchCV(pipe, param_grid=param_grid, cv=5, n_jobs=-1)\r\n",
        "grid.fit(X_train, y_train)"
      ],
      "execution_count": null,
      "outputs": [
        {
          "output_type": "execute_result",
          "data": {
            "text/plain": [
              "GridSearchCV(cv=5, error_score=nan,\n",
              "             estimator=Pipeline(memory=None,\n",
              "                                steps=[('standardscaler',\n",
              "                                        StandardScaler(copy=True,\n",
              "                                                       with_mean=True,\n",
              "                                                       with_std=True)),\n",
              "                                       ('polynomialfeatures',\n",
              "                                        PolynomialFeatures(degree=2,\n",
              "                                                           include_bias=True,\n",
              "                                                           interaction_only=False,\n",
              "                                                           order='C')),\n",
              "                                       ('ridge',\n",
              "                                        Ridge(alpha=1.0, copy_X=True,\n",
              "                                              fit_intercept=True, max_iter=None,\n",
              "                                              normalize=False,\n",
              "                                              random_state=None, solver='auto',\n",
              "                                              tol=0.001))],\n",
              "                                verbose=False),\n",
              "             iid='deprecated', n_jobs=-1,\n",
              "             param_grid={'polynomialfeatures__degree': [1, 2, 3],\n",
              "                         'ridge__alpha': [0.001, 0.01, 0.1, 1, 10, 100]},\n",
              "             pre_dispatch='2*n_jobs', refit=True, return_train_score=False,\n",
              "             scoring=None, verbose=0)"
            ]
          },
          "metadata": {
            "tags": []
          },
          "execution_count": 28
        }
      ]
    },
    {
      "cell_type": "code",
      "metadata": {
        "colab": {
          "base_uri": "https://localhost:8080/",
          "height": 277
        },
        "id": "f42yRGizfzt3",
        "outputId": "4c4f45a6-1e7f-4cd9-e10f-5b64ff0e936d"
      },
      "source": [
        "import matplotlib.pyplot as plt\r\n",
        "\r\n",
        "plt.matshow(grid.cv_results_['mean_test_score'].reshape(3, -1),\r\n",
        "            vmin=0, cmap=\"viridis\")\r\n",
        "plt.xlabel(\"ridge__alpha\")\r\n",
        "plt.ylabel(\"polynomialfeatures__degree\")\r\n",
        "plt.xticks(range(len(param_grid['ridge__alpha'])), param_grid['ridge__alpha'])\r\n",
        "plt.yticks(range(len(param_grid['polynomialfeatures__degree'])),\r\n",
        "           param_grid['polynomialfeatures__degree'])\r\n",
        "\r\n",
        "plt.colorbar()"
      ],
      "execution_count": null,
      "outputs": [
        {
          "output_type": "execute_result",
          "data": {
            "text/plain": [
              "<matplotlib.colorbar.Colorbar at 0x7f825c344a50>"
            ]
          },
          "metadata": {
            "tags": []
          },
          "execution_count": 30
        },
        {
          "output_type": "display_data",
          "data": {
            "image/png": "[encoded data removed]",
            "text/plain": [
              "<Figure size 576x288 with 2 Axes>"
            ]
          },
          "metadata": {
            "tags": [],
            "needs_background": "light"
          }
        }
      ]
    },
    {
      "cell_type": "code",
      "metadata": {
        "colab": {
          "base_uri": "https://localhost:8080/"
        },
        "id": "jFlWSjtUf6zi",
        "outputId": "65e25f3b-c2a5-416a-ef5d-56e32fc2f1f4"
      },
      "source": [
        "print(\"Best parameters: {}\".format(grid.best_params_))"
      ],
      "execution_count": null,
      "outputs": [
        {
          "output_type": "stream",
          "text": [
            "Best parameters: {'polynomialfeatures__degree': 2, 'ridge__alpha': 10}\n"
          ],
          "name": "stdout"
        }
      ]
    },
    {
      "cell_type": "code",
      "metadata": {
        "colab": {
          "base_uri": "https://localhost:8080/"
        },
        "id": "5dY3JePcf89Z",
        "outputId": "6331f892-1587-4945-9510-cf783af3167b"
      },
      "source": [
        "print(\"Test-set score: {:.2f}\".format(grid.score(X_test, y_test)))"
      ],
      "execution_count": null,
      "outputs": [
        {
          "output_type": "stream",
          "text": [
            "Test-set score: 0.77\n"
          ],
          "name": "stdout"
        }
      ]
    },
    {
      "cell_type": "code",
      "metadata": {
        "colab": {
          "base_uri": "https://localhost:8080/"
        },
        "id": "vC_vJ5emf-Xe",
        "outputId": "87a6a86b-bed2-4e67-a710-8d671cac053f"
      },
      "source": [
        "param_grid = {'ridge__alpha': [0.001, 0.01, 0.1, 1, 10, 100]}\r\n",
        "pipe = make_pipeline(StandardScaler(), Ridge())\r\n",
        "grid = GridSearchCV(pipe, param_grid, cv=5)\r\n",
        "grid.fit(X_train, y_train)\r\n",
        "print(\"Score without poly features: {:.2f}\".format(grid.score(X_test, y_test)))"
      ],
      "execution_count": null,
      "outputs": [
        {
          "output_type": "stream",
          "text": [
            "Score without poly features: 0.63\n"
          ],
          "name": "stdout"
        }
      ]
    },
    {
      "cell_type": "markdown",
      "metadata": {
        "id": "6XD0_pXtgAfY"
      },
      "source": [
        "# Grid-Searching Which Model To Use"
      ]
    },
    {
      "cell_type": "code",
      "metadata": {
        "id": "7bv8Li0UgBRr"
      },
      "source": [
        "pipe = Pipeline([('preprocessing', StandardScaler()), ('classifier', SVC())])\r\n"
      ],
      "execution_count": null,
      "outputs": []
    },
    {
      "cell_type": "code",
      "metadata": {
        "id": "qDwCCuITgC5j"
      },
      "source": [
        "from sklearn.ensemble import RandomForestClassifier\r\n",
        "\r\n",
        "param_grid = [\r\n",
        "    {'classifier': [SVC()], 'preprocessing': [StandardScaler(), None],\r\n",
        "     'classifier__gamma': [0.001, 0.01, 0.1, 1, 10, 100],\r\n",
        "     'classifier__C': [0.001, 0.01, 0.1, 1, 10, 100]},\r\n",
        "    {'classifier': [RandomForestClassifier(n_estimators=100)],\r\n",
        "     'preprocessing': [None], 'classifier__max_features': [1, 2, 3]}]"
      ],
      "execution_count": null,
      "outputs": []
    },
    {
      "cell_type": "code",
      "metadata": {
        "colab": {
          "base_uri": "https://localhost:8080/"
        },
        "id": "vAfZAITAgFi7",
        "outputId": "d9c18a69-3b20-4693-925f-e0b4d4417c14"
      },
      "source": [
        "X_train, X_test, y_train, y_test = train_test_split(\r\n",
        "    cancer.data, cancer.target, random_state=0)\r\n",
        "\r\n",
        "grid = GridSearchCV(pipe, param_grid, cv=5)\r\n",
        "grid.fit(X_train, y_train)\r\n",
        "\r\n",
        "print(\"Best params:\\n{}\\n\".format(grid.best_params_))\r\n",
        "print(\"Best cross-validation score: {:.2f}\".format(grid.best_score_))\r\n",
        "print(\"Test-set score: {:.2f}\".format(grid.score(X_test, y_test)))"
      ],
      "execution_count": null,
      "outputs": [
        {
          "output_type": "stream",
          "text": [
            "Best params:\n",
            "{'classifier': SVC(C=10, break_ties=False, cache_size=200, class_weight=None, coef0=0.0,\n",
            "    decision_function_shape='ovr', degree=3, gamma=0.01, kernel='rbf',\n",
            "    max_iter=-1, probability=False, random_state=None, shrinking=True,\n",
            "    tol=0.001, verbose=False), 'classifier__C': 10, 'classifier__gamma': 0.01, 'preprocessing': StandardScaler(copy=True, with_mean=True, with_std=True)}\n",
            "\n",
            "Best cross-validation score: 0.99\n",
            "Test-set score: 0.98\n"
          ],
          "name": "stdout"
        }
      ]
    },
    {
      "cell_type": "code",
      "metadata": {
        "id": "zmytZBLUgHSk"
      },
      "source": [
        "pipe = Pipeline([('preprocessing', StandardScaler()), ('classifier', SVC())],\r\n",
        "                memory=\"cache_folder\")"
      ],
      "execution_count": null,
      "outputs": []
    }
  ]
}